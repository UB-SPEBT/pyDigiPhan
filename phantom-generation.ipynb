{
 "cells": [
  {
   "cell_type": "code",
   "execution_count": 1,
   "metadata": {},
   "outputs": [],
   "source": [
    "import numpy\n",
    "import skimage\n",
    "import matplotlib as mpl\n",
    "import matplotlib.pyplot as plt\n",
    "import math\n",
    "import sys"
   ]
  },
  {
   "cell_type": "code",
   "execution_count": 2,
   "metadata": {},
   "outputs": [],
   "source": [
    "import pyphantom"
   ]
  },
  {
   "cell_type": "markdown",
   "metadata": {},
   "source": [
    "# Hot-rod (Derenzo) Phantom"
   ]
  },
  {
   "cell_type": "code",
   "execution_count": 3,
   "metadata": {},
   "outputs": [
    {
     "name": "stdout",
     "output_type": "stream",
     "text": [
      "Produce derenzo phantom, with dimension 200x200\n",
      "nlayers: [18 12  9  6  5  5]\n"
     ]
    }
   ],
   "source": [
    "phantom=pyphantom.phantoms.generator.get_phantom('derenzo',shape=(200,200))"
   ]
  },
  {
   "cell_type": "code",
   "execution_count": 4,
   "metadata": {},
   "outputs": [
    {
     "data": {
      "image/png": "[encoded data removed]",
      "text/plain": [
       "<Figure size 1600x1000 with 2 Axes>"
      ]
     },
     "metadata": {},
     "output_type": "display_data"
    }
   ],
   "source": [
    "fig, ax = plt.subplots(figsize=(16, 10), dpi=100)\n",
    "norm = plt.Normalize(0, 10)\n",
    "cmap = mpl.colors.LinearSegmentedColormap.from_list(\"\", [\"white\", \"orange\"])\n",
    "cbar = fig.colorbar(\n",
    "    ax.imshow(phantom.image.T, origin=\"lower\", cmap=mpl.colormaps['turbo'], norm=norm, aspect=\"equal\"), pad=0.01\n",
    ")"
   ]
  },
  {
   "cell_type": "code",
   "execution_count": null,
   "metadata": {},
   "outputs": [],
   "source": [
    "img = np.zeros((180, 180))\n",
    "mask = np.zeros((180, 180))\n",
    "radii = [2,4,6,8,10,12]\n",
    "R=55\n",
    "for idx in range(0,6):\n",
    "    angle_rad = idx*math.pi/3\n",
    "    cx,cy = (math.cos(angle_rad)*R+90,math.sin(angle_rad)*R+90)\n",
    "    xx,yy = skimage.draw.circle_perimeter(int(cx),int(cy),radii[idx])\n",
    "    img[xx,yy] = 5\n",
    "    mask[xx,yy] = idx+1\n",
    "    xx,yy = skimage.draw.disk((int(cx),int(cy)),radii[idx])\n",
    "    img[xx,yy] = 10\n",
    "    mask[xx,yy] = idx+1\n"
   ]
  },
  {
   "cell_type": "code",
   "execution_count": null,
   "metadata": {},
   "outputs": [],
   "source": [
    "fig,ax = plt.subplots(figsize=(16,10),dpi=100)\n",
    "norm=plt.Normalize(0,10)\n",
    "cmap = mpl.colors.LinearSegmentedColormap.from_list(\"\", [\"white\",\"orange\"])\n",
    "fig.colorbar(ax.imshow(img.T,origin='lower',cmap=cmap,norm=norm))\n"
   ]
  },
  {
   "cell_type": "code",
   "execution_count": null,
   "metadata": {},
   "outputs": [],
   "source": [
    "dataDir = \"/home/fanghan/Work/SPEBT/Develop/data/2023/\"\n",
    "NImgX_ = 180\n",
    "NImgY_ = 180\n",
    "NDetY_ = 32\n",
    "NModule_ = 6\n",
    "NDetX_ = 24\n",
    "fName = (\n",
    "    \"sysmat_24layer_Rot_0_of_2_2mmslitin10mm_1010_idxT0_numT1in1mm_IZ0_DZ0_100.sysmat\"\n",
    ")\n",
    "data = np.fromfile(\"%s%s\" % (dataDir, fName), dtype=\"single\")\n",
    "dataArr2D= data.reshape((NDetX_ * NModule_ * NDetY_, NImgX_ * NImgY_))\n",
    "dataArr5D = dataArr2D.reshape((NDetX_, NModule_, NDetY_, NImgX_, NImgY_))"
   ]
  },
  {
   "cell_type": "code",
   "execution_count": null,
   "metadata": {},
   "outputs": [],
   "source": [
    "print(sys.getsizeof(data)/1024/1024,\"MB\")"
   ]
  },
  {
   "cell_type": "code",
   "execution_count": null,
   "metadata": {},
   "outputs": [],
   "source": [
    "Nlayers = 1\n",
    "sysmat = np.reshape(dataArr5D[:Nlayers,:,:,:,:],(Nlayers,NModule_,NDetY_,NImgX_ * NImgY_))"
   ]
  },
  {
   "cell_type": "code",
   "execution_count": null,
   "metadata": {},
   "outputs": [],
   "source": [
    "# 500 Bq/uL, 30s\n",
    "# 10 * 1500 Count/uL\n",
    "\n",
    "poisson_img = np.random.poisson(img*1500)\n",
    "arr_dict={}\n",
    "for Nlayers in range(1, 11):\n",
    "    dataMat = np.reshape(dataArr5D[:Nlayers, :, :, :, :],(Nlayers*NModule_*NDetY_,NImgX_ * NImgY_))\n",
    "    sysmat = dataMat[~np.all(dataMat == 0, axis=1)]\n",
    "    fake_proj = np.matmul(sysmat, poisson_img.reshape(NImgX_ * NImgY_))\n",
    "    arr_dict['%d-layers'%Nlayers] = fake_proj\n",
    "    print(fake_proj.shape)\n",
    "# for keys in arr_dict:\n",
    "#     print(arr_dict[keys].shape)\n",
    "np.savez(\"test.npz\",**arr_dict)"
   ]
  },
  {
   "cell_type": "code",
   "execution_count": null,
   "metadata": {},
   "outputs": [],
   "source": [
    "npzfile = np.load(\"test.npz\")\n",
    "sorted(npzfile.files)"
   ]
  },
  {
   "cell_type": "markdown",
   "metadata": {},
   "source": [
    "# Test reconstruction"
   ]
  },
  {
   "cell_type": "code",
   "execution_count": null,
   "metadata": {},
   "outputs": [],
   "source": [
    "Nlayers=8\n",
    "dataMat = np.reshape(dataArr5D[:Nlayers, :, :, :, :],(Nlayers*NModule_*NDetY_,NImgX_ * NImgY_))\n",
    "# print(dataMat.shape)\n",
    "sysmat = dataMat[~np.all(dataMat == 0, axis=1)]\n",
    "print(sysmat.shape)"
   ]
  },
  {
   "cell_type": "code",
   "execution_count": null,
   "metadata": {},
   "outputs": [],
   "source": [
    "def backwardProj(lastArr, projArr, sysMat):\n",
    "    forwardLast = np.matmul(sysMat, lastArr)\n",
    "    quotients = projArr/forwardLast\n",
    "    return np.matmul(quotients, sysMat)/np.sum(sysMat, axis=0)*lastArr"
   ]
  },
  {
   "cell_type": "code",
   "execution_count": null,
   "metadata": {},
   "outputs": [],
   "source": [
    "\n",
    "Nlayers=8\n",
    "dataMatrix = np.reshape(dataArr5D[:Nlayers, :, :, :, :],(Nlayers*NModule_*NDetY_,NImgX_ * NImgY_))\n",
    "sysMatrix = dataMatrix[~np.all(dataMatrix == 0, axis=1)]\n",
    "matSum = np.sum(sysMatrix, axis=0, dtype=float)\n",
    "validIdx = np.array(np.where(matSum != 0))\n",
    "# validIdx=np.where(matSum != 0)\n",
    "reducedMat = np.reshape(\n",
    "    sysMatrix[:, validIdx], (sysMatrix.shape[0], validIdx.shape[1]))\n",
    "projection = np.random.poisson(arr_dict['%d-layers'%Nlayers])\n",
    "print(projection.shape)\n"
   ]
  },
  {
   "cell_type": "code",
   "execution_count": null,
   "metadata": {},
   "outputs": [],
   "source": [
    "result = projection == np.floor(projection)\n",
    "np.alltrue(result)"
   ]
  },
  {
   "cell_type": "code",
   "execution_count": null,
   "metadata": {},
   "outputs": [],
   "source": [
    "poisson_img = np.random.poisson(img*1500)\n",
    "fig,ax = plt.subplots(figsize=(16,10),dpi=100)\n",
    "# norm=plt.Normalize(0,10)\n",
    "# cmap = mpl.colors.LinearSegmentedColormap.from_list(\"\", [\"white\",\"orange\"])\n",
    "fig.colorbar(ax.imshow(poisson_img.T,origin='lower'))"
   ]
  },
  {
   "cell_type": "code",
   "execution_count": null,
   "metadata": {},
   "outputs": [],
   "source": [
    "def myfunc(k,mean):\n",
    "    return mean**k * math.exp(-mean)/math.factorial(k)\n",
    "vmyfunc = np.vectorize(myfunc)\n",
    "\n",
    "def my_log_gaus(xx,mean):\n",
    "    return np.log(1/np.sqrt(2*3.1416*mean)*np.exp(-(xx-mean)**2/(2*mean)))"
   ]
  },
  {
   "cell_type": "code",
   "execution_count": null,
   "metadata": {},
   "outputs": [],
   "source": [
    "print(np.mean(projection),np.std(projection))"
   ]
  },
  {
   "cell_type": "code",
   "execution_count": null,
   "metadata": {},
   "outputs": [],
   "source": [
    "NIteration = 50\n",
    "print((reducedMat.shape))\n",
    "reconImg = np.ones(reducedMat.shape[1])*200\n",
    "for iter in range(NIteration):\n",
    "        reconImg = backwardProj(reconImg, projection, reducedMat)\n",
    "        probs = my_log_gaus(projection,np.matmul(reducedMat,reconImg))\n",
    "        print(np.sum(probs))"
   ]
  },
  {
   "cell_type": "code",
   "execution_count": null,
   "metadata": {},
   "outputs": [],
   "source": [
    "ks = np.arange(1,5)\n",
    "means = np.array([0.5,2.1,3.6,4.7])\n",
    "vmyfunc = np.vectorize(myfunc)\n",
    "print(vmyfunc(ks,means))\n",
    "for k,mean in zip(ks,means):\n",
    "    print(myfunc(k,mean))"
   ]
  },
  {
   "cell_type": "code",
   "execution_count": null,
   "metadata": {},
   "outputs": [],
   "source": [
    "fig,ax = plt.subplots(figsize=(16,10),dpi=100)\n",
    "plotImg = np.zeros((NImgX_ * NImgY_))\n",
    "plotImg[validIdx] = reconImg\n",
    "# norm=plt.Normalize(0,10)\n",
    "# cmap = mpl.colors.LinearSegmentedColormap.from_list(\"\", [\"white\",\"orange\"])\n",
    "fig.colorbar(ax.imshow(np.reshape(plotImg,(NImgX_,NImgY_)).T,origin='lower'))"
   ]
  },
  {
   "cell_type": "code",
   "execution_count": null,
   "metadata": {},
   "outputs": [],
   "source": [
    "\n",
    "NIteration = 100\n",
    "Nlayers=2\n",
    "dataMatrix = np.reshape(dataArr5D[:Nlayers, :, :, :, :],(Nlayers*NModule_*NDetY_,NImgX_ * NImgY_))\n",
    "sysMatrix = dataMatrix[~np.all(dataMatrix == 0, axis=1)]\n",
    "matSum = np.sum(sysMatrix, axis=0, dtype=float)\n",
    "validIdx = np.array(np.where(matSum != 0))\n",
    "# validIdx=np.where(matSum != 0)\n",
    "reducedMat = np.reshape(\n",
    "    sysMatrix[:, validIdx], (sysMatrix.shape[0], validIdx.shape[1]))\n",
    "projection = np.random.poisson(arr_dict['%d-layers'%Nlayers])\n",
    "\n",
    "reconImg = np.ones(reducedMat.shape[1])*200\n",
    "for iter in range(NIteration):\n",
    "        reconImg = backwardProj(reconImg, projection, reducedMat)\n",
    "        # probs = my_log_gaus(projection,np.matmul(reducedMat,reconImg))\n",
    "        # print(np.sum(probs))\n",
    "fig,ax = plt.subplots(figsize=(16,10),dpi=100)\n",
    "plotImg = np.zeros((NImgX_ * NImgY_))\n",
    "plotImg[validIdx] = reconImg\n",
    "# norm=plt.Normalize(0,10)\n",
    "# cmap = mpl.colors.LinearSegmentedColormap.from_list(\"\", [\"white\",\"orange\"])\n",
    "fig.colorbar(ax.imshow(np.reshape(plotImg,(NImgX_,NImgY_)).T,origin='lower'))"
   ]
  },
  {
   "cell_type": "code",
   "execution_count": null,
   "metadata": {},
   "outputs": [],
   "source": [
    "NIteration = 100\n",
    "for Nlayers in range(1,10):\n",
    "    dataMatrix = np.reshape(dataArr5D[:Nlayers, :, :, :, :],(Nlayers*NModule_*NDetY_,NImgX_ * NImgY_))\n",
    "    sysMatrix = dataMatrix[~np.all(dataMatrix == 0, axis=1)]\n",
    "    matSum = np.sum(sysMatrix, axis=0, dtype=float)\n",
    "    validIdx = np.array(np.where(matSum != 0))\n",
    "    reducedMat = np.reshape(\n",
    "        sysMatrix[:, validIdx], (sysMatrix.shape[0], validIdx.shape[1]))\n",
    "    projection = np.random.poisson(arr_dict['%d-layers'%Nlayers])\n",
    "\n",
    "    reconImg = np.ones(reducedMat.shape[1])*200\n",
    "    for iter in range(NIteration):\n",
    "            reconImg = backwardProj(reconImg, projection, reducedMat)\n",
    "    fig,ax = plt.subplots(figsize=(16,10),dpi=100)\n",
    "    plotImg = np.zeros((NImgX_ * NImgY_))\n",
    "    plotImg[validIdx] = reconImg\n",
    "    mytext=\"N x-layers: %2d\"% Nlayers\n",
    "    ax.annotate(mytext,\n",
    "                xy=(2, 175), xycoords='data',fontsize=18,\n",
    "                horizontalalignment='left',\n",
    "                verticalalignment='center',color=\"white\")\n",
    "    ax.tick_params(labelsize=12)\n",
    "    fig.colorbar(ax.imshow(np.reshape(plotImg,(NImgX_,NImgY_)).T,origin='lower'),pad=0.01)\n",
    "    plt.tight_layout()\n",
    "    fig.savefig(\"%d-x-layers-recon.png\"%Nlayers)"
   ]
  },
  {
   "cell_type": "code",
   "execution_count": null,
   "metadata": {},
   "outputs": [],
   "source": [
    "img = np.zeros((imgN_x_,imgN_y_))\n",
    "img[89,89]=10\n",
    "fig, ax = plt.subplots(figsize=(11, 10), dpi=100)\n",
    "norm = plt.Normalize(0, 10)\n",
    "cmap = mpl.colors.LinearSegmentedColormap.from_list(\"\", [\"white\", \"orange\"])\n",
    "cbar = fig.colorbar(\n",
    "    ax.imshow(\n",
    "        img.T, origin=\"lower\", cmap=mpl.colormaps[\"gray\"], norm=norm, aspect=\"equal\"\n",
    "    ),\n",
    "    pad=0.01,\n",
    ")"
   ]
  },
  {
   "cell_type": "code",
   "execution_count": null,
   "metadata": {},
   "outputs": [],
   "source": [
    "import os\n",
    "outDir='output/'\n",
    "if os.path.exists(outDir)!= True:\n",
    "    try:\n",
    "        os.mkdir(outDir)\n",
    "    except Exception as err:\n",
    "        print(err)\n",
    "        exit(2)\n",
    "outImgName='dot_phantom_plot_%dx%d.png'%(imgN_x_,imgN_y_)\n",
    "outNpzName='dot_phantom_data_%dx%d.npz'%(imgN_x_,imgN_y_)\n",
    "print(\"Save phantom plot to\",outDir+outImgName)\n",
    "fig.savefig(outDir+outImgName,dpi=100)\n",
    "print(\"Save phantom data to\",outDir+outNpzName)\n",
    "np.savez_compressed(outDir+outNpzName,phantom=img,mask=mask)"
   ]
  }
 ],
 "metadata": {
  "kernelspec": {
   "display_name": "Python 3 (ipykernel)",
   "language": "python",
   "name": "python3"
  },
  "language_info": {
   "codemirror_mode": {
    "name": "ipython",
    "version": 3
   },
   "file_extension": ".py",
   "mimetype": "text/x-python",
   "name": "python",
   "nbconvert_exporter": "python",
   "pygments_lexer": "ipython3",
   "version": "3.12.3"
  }
 },
 "nbformat": 4,
 "nbformat_minor": 4
}
